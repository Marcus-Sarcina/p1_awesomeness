{
 "cells": [
  {
   "cell_type": "code",
   "execution_count": 3,
   "id": "b3bc2539",
   "metadata": {},
   "outputs": [],
   "source": [
    "import pandas as pd"
   ]
  },
  {
   "cell_type": "markdown",
   "id": "c9bb89c3",
   "metadata": {},
   "source": [
    "## Import drought data"
   ]
  },
  {
   "cell_type": "code",
   "execution_count": 4,
   "id": "0d7ef3d8",
   "metadata": {},
   "outputs": [],
   "source": [
    "drought = pd.read_pickle('../drought_data/data/drought_data.pk1')"
   ]
  },
  {
   "cell_type": "markdown",
   "id": "1c2fa5f7",
   "metadata": {},
   "source": [
    "## Import crime data by city"
   ]
  },
  {
   "cell_type": "code",
   "execution_count": 33,
   "id": "a54da5d9",
   "metadata": {},
   "outputs": [],
   "source": [
    "balt = pd.read_pickle('../data/data/Balt_data.pk1')\n",
    "balt['County'] = 'Baltimore City'\n",
    "balt['Year'] = balt.date.dt.year\n",
    "balt['Month'] = balt.date.dt.month\n",
    "balt = balt[['County', 'Year', 'Month', 'Crime Type', 'Crime Solved', 'Victim Count', 'date']].reset_index(drop=True)"
   ]
  },
  {
   "cell_type": "code",
   "execution_count": 37,
   "id": "9805c290",
   "metadata": {},
   "outputs": [],
   "source": [
    "bos = pd.read_pickle('../data/data/Boston_data.pk1')\n",
    "bos['County'] = 'Suffolk County'\n",
    "bos['Year'] = bos.date.dt.year\n",
    "bos['Month'] = bos.date.dt.month\n",
    "bos = bos[['County', 'Year', 'Month', 'Crime Type', 'Crime Solved', 'Victim Count', 'date']].reset_index(drop=True)\n"
   ]
  },
  {
   "cell_type": "code",
   "execution_count": 39,
   "id": "70ad0d25",
   "metadata": {},
   "outputs": [],
   "source": [
    "chi = pd.read_pickle('../data/data/Chi_data.pk1')\n",
    "chi['County'] = 'Cook County'\n",
    "chi['Year'] = chi.date.dt.year\n",
    "chi['Month'] = chi.date.dt.month\n",
    "chi = chi[['County', 'Year', 'Month', 'Crime Type', 'Crime Solved', 'Victim Count', 'date']].reset_index(drop=True)"
   ]
  },
  {
   "cell_type": "code",
   "execution_count": 41,
   "id": "be8c3363",
   "metadata": {},
   "outputs": [],
   "source": [
    "nola = pd.read_pickle('../data/data/Nola_data.pk1')\n",
    "nola['County'] = 'Orleans Parish'\n",
    "nola['Year'] = nola.date.dt.year\n",
    "nola['Month'] = nola.date.dt.month\n",
    "nola = nola[['County', 'Year', 'Month', 'Crime Type', 'Crime Solved', 'Victim Count', 'date']].reset_index(drop=True)"
   ]
  },
  {
   "cell_type": "markdown",
   "id": "3e8beb19",
   "metadata": {},
   "source": [
    "## Merge drought data into city data and export city-level datasets"
   ]
  },
  {
   "cell_type": "code",
   "execution_count": 55,
   "id": "5ed9ed70",
   "metadata": {},
   "outputs": [],
   "source": [
    "balt_comp = balt.merge(drought, how='left', left_on=['County', 'Year', 'Month'], right_on=['County', 'Year', 'Month'])\n",
    "balt_comp.to_pickle('data/balt_comp.pk1')"
   ]
  },
  {
   "cell_type": "code",
   "execution_count": 56,
   "id": "0ca266b0",
   "metadata": {},
   "outputs": [],
   "source": [
    "bos_comp = bos.merge(drought, how='left', left_on=['County', 'Year', 'Month'], right_on=['County', 'Year', 'Month'])\n",
    "bos_comp.to_pickle('data/bos_comp.pk1')"
   ]
  },
  {
   "cell_type": "code",
   "execution_count": 57,
   "id": "8b59392a",
   "metadata": {},
   "outputs": [],
   "source": [
    "chi_comp = chi.merge(drought, how='left', left_on=['County', 'Year', 'Month'], right_on=['County', 'Year', 'Month'])\n",
    "chi_comp.to_pickle('data/chi_comp.pk1')"
   ]
  },
  {
   "cell_type": "code",
   "execution_count": 58,
   "id": "0b112d97",
   "metadata": {},
   "outputs": [],
   "source": [
    "nola_comp = nola.merge(drought, how='left', left_on=['County', 'Year', 'Month'], right_on=['County', 'Year', 'Month'])\n",
    "nola_comp.to_pickle('data/nola_comp.pk1')"
   ]
  },
  {
   "cell_type": "markdown",
   "id": "4b872f4e",
   "metadata": {},
   "source": [
    "## Create all-cities dataset and export"
   ]
  },
  {
   "cell_type": "code",
   "execution_count": 61,
   "id": "40f6c2ee",
   "metadata": {},
   "outputs": [],
   "source": [
    "all_cities = pd.concat([balt_comp, bos_comp, chi_comp, nola_comp], axis=0, join='outer', ignore_index=True)\n",
    "all_cities.to_pickle('data/all_cities.pk1')"
   ]
  },
  {
   "cell_type": "code",
   "execution_count": null,
   "id": "b7cd0328",
   "metadata": {},
   "outputs": [],
   "source": []
  }
 ],
 "metadata": {
  "kernelspec": {
   "display_name": "Python [conda env:pyvizenv] *",
   "language": "python",
   "name": "conda-env-pyvizenv-py"
  },
  "language_info": {
   "codemirror_mode": {
    "name": "ipython",
    "version": 3
   },
   "file_extension": ".py",
   "mimetype": "text/x-python",
   "name": "python",
   "nbconvert_exporter": "python",
   "pygments_lexer": "ipython3",
   "version": "3.7.13"
  }
 },
 "nbformat": 4,
 "nbformat_minor": 5
}
