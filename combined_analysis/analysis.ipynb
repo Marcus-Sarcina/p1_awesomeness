{
 "cells": [
  {
   "cell_type": "code",
   "execution_count": 15,
   "id": "61c3e2de",
   "metadata": {},
   "outputs": [],
   "source": [
    "import pandas as pd\n",
    "import seaborn as sns\n",
    "%matplotlib inline"
   ]
  },
  {
   "cell_type": "markdown",
   "id": "4c328094",
   "metadata": {},
   "source": [
    "### Import dataframes"
   ]
  },
  {
   "cell_type": "code",
   "execution_count": 16,
   "id": "890ee69d",
   "metadata": {},
   "outputs": [],
   "source": [
    "balt = pd.read_pickle('data/balt_comp.pk1')\n",
    "bos = pd.read_pickle('data/bos_comp.pk1')\n",
    "chi = pd.read_pickle('data/chi_comp.pk1')\n",
    "nola = pd.read_pickle('data/nola_comp.pk1')\n",
    "all_cities = pd.read_pickle('data/all_cities.pk1')"
   ]
  },
  {
   "cell_type": "code",
   "execution_count": 35,
   "id": "8fdf5a5c",
   "metadata": {},
   "outputs": [
    {
     "data": {
      "text/html": [
       "<div>\n",
       "<style scoped>\n",
       "    .dataframe tbody tr th:only-of-type {\n",
       "        vertical-align: middle;\n",
       "    }\n",
       "\n",
       "    .dataframe tbody tr th {\n",
       "        vertical-align: top;\n",
       "    }\n",
       "\n",
       "    .dataframe thead th {\n",
       "        text-align: right;\n",
       "    }\n",
       "</style>\n",
       "<table border=\"1\" class=\"dataframe\">\n",
       "  <thead>\n",
       "    <tr style=\"text-align: right;\">\n",
       "      <th></th>\n",
       "      <th>County</th>\n",
       "      <th>Year</th>\n",
       "      <th>Month</th>\n",
       "      <th>Crime Type</th>\n",
       "      <th>Crime Solved</th>\n",
       "      <th>Victim Count</th>\n",
       "      <th>date</th>\n",
       "      <th>None</th>\n",
       "      <th>D0</th>\n",
       "      <th>D1</th>\n",
       "      <th>D2</th>\n",
       "      <th>D3</th>\n",
       "      <th>D4</th>\n",
       "    </tr>\n",
       "  </thead>\n",
       "  <tbody>\n",
       "    <tr>\n",
       "      <th>0</th>\n",
       "      <td>Baltimore City</td>\n",
       "      <td>2000</td>\n",
       "      <td>1</td>\n",
       "      <td>Murder or Manslaughter</td>\n",
       "      <td>No</td>\n",
       "      <td>1</td>\n",
       "      <td>2000-01-01</td>\n",
       "      <td>100.0</td>\n",
       "      <td>0.000</td>\n",
       "      <td>0.000</td>\n",
       "      <td>0.000</td>\n",
       "      <td>0.0</td>\n",
       "      <td>0.0</td>\n",
       "    </tr>\n",
       "    <tr>\n",
       "      <th>1</th>\n",
       "      <td>Baltimore City</td>\n",
       "      <td>2000</td>\n",
       "      <td>1</td>\n",
       "      <td>Murder or Manslaughter</td>\n",
       "      <td>Yes</td>\n",
       "      <td>1</td>\n",
       "      <td>2000-01-01</td>\n",
       "      <td>100.0</td>\n",
       "      <td>0.000</td>\n",
       "      <td>0.000</td>\n",
       "      <td>0.000</td>\n",
       "      <td>0.0</td>\n",
       "      <td>0.0</td>\n",
       "    </tr>\n",
       "    <tr>\n",
       "      <th>2</th>\n",
       "      <td>Baltimore City</td>\n",
       "      <td>2000</td>\n",
       "      <td>3</td>\n",
       "      <td>Murder or Manslaughter</td>\n",
       "      <td>No</td>\n",
       "      <td>1</td>\n",
       "      <td>2000-03-01</td>\n",
       "      <td>100.0</td>\n",
       "      <td>0.000</td>\n",
       "      <td>0.000</td>\n",
       "      <td>0.000</td>\n",
       "      <td>0.0</td>\n",
       "      <td>0.0</td>\n",
       "    </tr>\n",
       "    <tr>\n",
       "      <th>3</th>\n",
       "      <td>Baltimore City</td>\n",
       "      <td>2000</td>\n",
       "      <td>4</td>\n",
       "      <td>Murder or Manslaughter</td>\n",
       "      <td>Yes</td>\n",
       "      <td>1</td>\n",
       "      <td>2000-04-01</td>\n",
       "      <td>100.0</td>\n",
       "      <td>0.000</td>\n",
       "      <td>0.000</td>\n",
       "      <td>0.000</td>\n",
       "      <td>0.0</td>\n",
       "      <td>0.0</td>\n",
       "    </tr>\n",
       "    <tr>\n",
       "      <th>4</th>\n",
       "      <td>Baltimore City</td>\n",
       "      <td>2000</td>\n",
       "      <td>4</td>\n",
       "      <td>Murder or Manslaughter</td>\n",
       "      <td>No</td>\n",
       "      <td>1</td>\n",
       "      <td>2000-04-01</td>\n",
       "      <td>100.0</td>\n",
       "      <td>0.000</td>\n",
       "      <td>0.000</td>\n",
       "      <td>0.000</td>\n",
       "      <td>0.0</td>\n",
       "      <td>0.0</td>\n",
       "    </tr>\n",
       "    <tr>\n",
       "      <th>...</th>\n",
       "      <td>...</td>\n",
       "      <td>...</td>\n",
       "      <td>...</td>\n",
       "      <td>...</td>\n",
       "      <td>...</td>\n",
       "      <td>...</td>\n",
       "      <td>...</td>\n",
       "      <td>...</td>\n",
       "      <td>...</td>\n",
       "      <td>...</td>\n",
       "      <td>...</td>\n",
       "      <td>...</td>\n",
       "      <td>...</td>\n",
       "    </tr>\n",
       "    <tr>\n",
       "      <th>15372</th>\n",
       "      <td>Orleans Parish</td>\n",
       "      <td>2014</td>\n",
       "      <td>12</td>\n",
       "      <td>Murder or Manslaughter</td>\n",
       "      <td>No</td>\n",
       "      <td>0</td>\n",
       "      <td>2014-12-01</td>\n",
       "      <td>0.0</td>\n",
       "      <td>20.348</td>\n",
       "      <td>28.526</td>\n",
       "      <td>51.126</td>\n",
       "      <td>0.0</td>\n",
       "      <td>0.0</td>\n",
       "    </tr>\n",
       "    <tr>\n",
       "      <th>15373</th>\n",
       "      <td>Orleans Parish</td>\n",
       "      <td>2014</td>\n",
       "      <td>12</td>\n",
       "      <td>Murder or Manslaughter</td>\n",
       "      <td>No</td>\n",
       "      <td>0</td>\n",
       "      <td>2014-12-01</td>\n",
       "      <td>0.0</td>\n",
       "      <td>20.348</td>\n",
       "      <td>28.526</td>\n",
       "      <td>51.126</td>\n",
       "      <td>0.0</td>\n",
       "      <td>0.0</td>\n",
       "    </tr>\n",
       "    <tr>\n",
       "      <th>15374</th>\n",
       "      <td>Orleans Parish</td>\n",
       "      <td>2014</td>\n",
       "      <td>12</td>\n",
       "      <td>Murder or Manslaughter</td>\n",
       "      <td>No</td>\n",
       "      <td>0</td>\n",
       "      <td>2014-12-01</td>\n",
       "      <td>0.0</td>\n",
       "      <td>20.348</td>\n",
       "      <td>28.526</td>\n",
       "      <td>51.126</td>\n",
       "      <td>0.0</td>\n",
       "      <td>0.0</td>\n",
       "    </tr>\n",
       "    <tr>\n",
       "      <th>15375</th>\n",
       "      <td>Orleans Parish</td>\n",
       "      <td>2014</td>\n",
       "      <td>12</td>\n",
       "      <td>Murder or Manslaughter</td>\n",
       "      <td>No</td>\n",
       "      <td>0</td>\n",
       "      <td>2014-12-01</td>\n",
       "      <td>0.0</td>\n",
       "      <td>20.348</td>\n",
       "      <td>28.526</td>\n",
       "      <td>51.126</td>\n",
       "      <td>0.0</td>\n",
       "      <td>0.0</td>\n",
       "    </tr>\n",
       "    <tr>\n",
       "      <th>15376</th>\n",
       "      <td>Orleans Parish</td>\n",
       "      <td>2014</td>\n",
       "      <td>12</td>\n",
       "      <td>Murder or Manslaughter</td>\n",
       "      <td>No</td>\n",
       "      <td>0</td>\n",
       "      <td>2014-12-01</td>\n",
       "      <td>0.0</td>\n",
       "      <td>20.348</td>\n",
       "      <td>28.526</td>\n",
       "      <td>51.126</td>\n",
       "      <td>0.0</td>\n",
       "      <td>0.0</td>\n",
       "    </tr>\n",
       "  </tbody>\n",
       "</table>\n",
       "<p>15377 rows × 13 columns</p>\n",
       "</div>"
      ],
      "text/plain": [
       "               County  Year  Month              Crime Type Crime Solved  \\\n",
       "0      Baltimore City  2000      1  Murder or Manslaughter           No   \n",
       "1      Baltimore City  2000      1  Murder or Manslaughter          Yes   \n",
       "2      Baltimore City  2000      3  Murder or Manslaughter           No   \n",
       "3      Baltimore City  2000      4  Murder or Manslaughter          Yes   \n",
       "4      Baltimore City  2000      4  Murder or Manslaughter           No   \n",
       "...               ...   ...    ...                     ...          ...   \n",
       "15372  Orleans Parish  2014     12  Murder or Manslaughter           No   \n",
       "15373  Orleans Parish  2014     12  Murder or Manslaughter           No   \n",
       "15374  Orleans Parish  2014     12  Murder or Manslaughter           No   \n",
       "15375  Orleans Parish  2014     12  Murder or Manslaughter           No   \n",
       "15376  Orleans Parish  2014     12  Murder or Manslaughter           No   \n",
       "\n",
       "       Victim Count       date   None      D0      D1      D2   D3   D4  \n",
       "0                 1 2000-01-01  100.0   0.000   0.000   0.000  0.0  0.0  \n",
       "1                 1 2000-01-01  100.0   0.000   0.000   0.000  0.0  0.0  \n",
       "2                 1 2000-03-01  100.0   0.000   0.000   0.000  0.0  0.0  \n",
       "3                 1 2000-04-01  100.0   0.000   0.000   0.000  0.0  0.0  \n",
       "4                 1 2000-04-01  100.0   0.000   0.000   0.000  0.0  0.0  \n",
       "...             ...        ...    ...     ...     ...     ...  ...  ...  \n",
       "15372             0 2014-12-01    0.0  20.348  28.526  51.126  0.0  0.0  \n",
       "15373             0 2014-12-01    0.0  20.348  28.526  51.126  0.0  0.0  \n",
       "15374             0 2014-12-01    0.0  20.348  28.526  51.126  0.0  0.0  \n",
       "15375             0 2014-12-01    0.0  20.348  28.526  51.126  0.0  0.0  \n",
       "15376             0 2014-12-01    0.0  20.348  28.526  51.126  0.0  0.0  \n",
       "\n",
       "[15377 rows x 13 columns]"
      ]
     },
     "execution_count": 35,
     "metadata": {},
     "output_type": "execute_result"
    }
   ],
   "source": [
    "all_cities"
   ]
  },
  {
   "cell_type": "markdown",
   "id": "87c4e187",
   "metadata": {},
   "source": [
    "## First, let's see if there is any corellation to speak of"
   ]
  },
  {
   "cell_type": "code",
   "execution_count": 40,
   "id": "97926a55",
   "metadata": {},
   "outputs": [],
   "source": [
    "# Create a monthly aggregation of murder-level records\n",
    "by_month = all_cities[['County', 'Year', \"Month\", \"Victim Count\"]].groupby(['County', 'Year', \"Month\"]).count()\n",
    "dl = all_cities[['County', 'Year', \"Month\", 'None', 'D0', 'D1', 'D2', 'D3', 'D4']].groupby(['County', 'Year', \"Month\"]).mean()\n",
    "by_month = by_month.merge(dl, left_on=['County', 'Year', 'Month'], right_on=['County', 'Year', 'Month'])"
   ]
  },
  {
   "cell_type": "code",
   "execution_count": 41,
   "id": "f168fb57",
   "metadata": {},
   "outputs": [
    {
     "data": {
      "text/plain": [
       "<matplotlib.axes._subplots.AxesSubplot at 0x211c51423c8>"
      ]
     },
     "execution_count": 41,
     "metadata": {},
     "output_type": "execute_result"
    },
    {
     "data": {
      "image/png": "[encoded data removed]",
      "text/plain": [
       "<Figure size 640x480 with 2 Axes>"
      ]
     },
     "metadata": {},
     "output_type": "display_data"
    }
   ],
   "source": [
    "matrix = by_month.corr()\n",
    "sns.heatmap(matrix, vmin=-1, vmax=1)"
   ]
  },
  {
   "cell_type": "markdown",
   "id": "e8b47093",
   "metadata": {},
   "source": [
    "### For comparison purposes, we need a combined drought column"
   ]
  },
  {
   "cell_type": "code",
   "execution_count": 44,
   "id": "c74fa6b0",
   "metadata": {},
   "outputs": [],
   "source": [
    "by_month['Total Drought'] = by_month.D0 + by_month.D1 + by_month.D2 + by_month.D3 + by_month.D4"
   ]
  },
  {
   "cell_type": "markdown",
   "id": "fb24ee93",
   "metadata": {},
   "source": [
    "### To reflect drought severity, we'll apply an arbitrary severity multiplier: D0=1, D1=2, D2=3, D3=4, D4=5"
   ]
  },
  {
   "cell_type": "code",
   "execution_count": 46,
   "id": "65e4b7c1",
   "metadata": {},
   "outputs": [],
   "source": [
    "by_month['Weighted Drought'] = by_month.D0 + (by_month.D1*2) + (by_month.D2*3) + (by_month.D3*4) + (by_month.D4*5)"
   ]
  },
  {
   "cell_type": "code",
   "execution_count": 49,
   "id": "7c11d16b",
   "metadata": {},
   "outputs": [
    {
     "name": "stdout",
     "output_type": "stream",
     "text": [
      "                  Victim Count      None        D0        D1        D2  \\\n",
      "Victim Count          1.000000  0.026339 -0.084708  0.036734  0.028558   \n",
      "None                  0.026339  1.000000 -0.643434 -0.590090 -0.397063   \n",
      "D0                   -0.084708 -0.643434  1.000000  0.079996 -0.094259   \n",
      "D1                    0.036734 -0.590090  0.079996  1.000000  0.103621   \n",
      "D2                    0.028558 -0.397063 -0.094259  0.103621  1.000000   \n",
      "D3                    0.011191 -0.322563 -0.090958 -0.042198  0.173742   \n",
      "D4                   -0.016746 -0.129734 -0.037869 -0.026545 -0.011464   \n",
      "Total Drought        -0.026338 -1.000000  0.643434  0.590090  0.397064   \n",
      "Weighted Drought      0.006325 -0.853236  0.219662  0.486015  0.569767   \n",
      "\n",
      "                        D3        D4  Total Drought  Weighted Drought  \n",
      "Victim Count      0.011191 -0.016746      -0.026338          0.006325  \n",
      "None             -0.322563 -0.129734      -1.000000         -0.853236  \n",
      "D0               -0.090958 -0.037869       0.643434          0.219662  \n",
      "D1               -0.042198 -0.026545       0.590090          0.486015  \n",
      "D2                0.173742 -0.011464       0.397064          0.569767  \n",
      "D3                1.000000  0.110234       0.322564          0.635873  \n",
      "D4                0.110234  1.000000       0.129734          0.329912  \n",
      "Total Drought     0.322564  0.129734       1.000000          0.853236  \n",
      "Weighted Drought  0.635873  0.329912       0.853236          1.000000  \n"
     ]
    }
   ],
   "source": [
    "matrix2 = by_month.corr()\n",
    "# sns.heatmap(matrix2, vmin=-1, vmax=1)\n",
    "print(matrix2)"
   ]
  },
  {
   "cell_type": "code",
   "execution_count": 51,
   "id": "90a51ac9",
   "metadata": {},
   "outputs": [],
   "source": [
    "# export data with aggregate columns\n",
    "\n",
    "by_month.to_pickle('data/by_month.pk1')"
   ]
  },
  {
   "cell_type": "code",
   "execution_count": null,
   "id": "31450929",
   "metadata": {},
   "outputs": [],
   "source": []
  }
 ],
 "metadata": {
  "kernelspec": {
   "display_name": "Python [conda env:pyvizenv] *",
   "language": "python",
   "name": "conda-env-pyvizenv-py"
  },
  "language_info": {
   "codemirror_mode": {
    "name": "ipython",
    "version": 3
   },
   "file_extension": ".py",
   "mimetype": "text/x-python",
   "name": "python",
   "nbconvert_exporter": "python",
   "pygments_lexer": "ipython3",
   "version": "3.7.13"
  }
 },
 "nbformat": 4,
 "nbformat_minor": 5
}
